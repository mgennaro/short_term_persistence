{
 "cells": [
  {
   "cell_type": "markdown",
   "metadata": {},
   "source": [
    "Notebook to test whether one can obtain a good subtraction of the same image by first drizzling it and then blotting it back to its own reference frame.\n",
    "This test seems to show that the convolution performed by astrodrizzle makes it impossible to actually work in the flt space with such a simplistic approach.\n",
    "\n",
    "The notebook Show_differences_self highligths how the different AD kernel may give slghtly different results, by plotting the results from this one notebook\n",
    "\n"
   ]
  },
  {
   "cell_type": "code",
   "execution_count": null,
   "metadata": {
    "collapsed": false
   },
   "outputs": [],
   "source": [
    "from astropy.io import fits\n",
    "from stwcs import updatewcs\n",
    "from drizzlepac import astrodrizzle, ablot\n",
    "import glob, os, shutil\n",
    "from multiprocessing import Pool\n",
    "import matplotlib.pyplot as plt\n",
    "import numpy as np\n",
    "from multiprocessing import Pool\n",
    "from matplotlib.colors import PowerNorm\n",
    "from stsci.tools import teal\n",
    "from scipy.stats import sigmaclip\n",
    "from AD_STP_utils.differential_imaging import driz_all,blot_back,subtract\n",
    "\n",
    "\n",
    "%matplotlib notebook"
   ]
  },
  {
   "cell_type": "code",
   "execution_count": null,
   "metadata": {
    "collapsed": true
   },
   "outputs": [],
   "source": [
    "#Setup the working directory and change into it\n",
    "\n",
    "wdir = '/user/gennaro/Functional_work/WFC3_persistence/py_progs/short_term_persistence/Test_data/Test_self/'\n",
    "os.chdir(wdir)"
   ]
  },
  {
   "cell_type": "code",
   "execution_count": null,
   "metadata": {
    "collapsed": false
   },
   "outputs": [],
   "source": [
    "# Prepare the sorted list of flt file to be processed\n",
    "# Print the exposure information \n",
    "\n",
    "flts = sorted(glob.glob('*flt.fits'))\n",
    "for f in flts:\n",
    "    fhdr = fits.getheader(f)\n",
    "    print(f, fhdr['FILTER'], fhdr['TIME-OBS'], fhdr['POSTARG1'], fhdr['POSTARG2'], fhdr['EXPTIME'])"
   ]
  },
  {
   "cell_type": "code",
   "execution_count": null,
   "metadata": {
    "collapsed": false
   },
   "outputs": [],
   "source": [
    "# Create the drz images\n",
    "\n",
    "ad_dict = {'median':False,\n",
    "           'blot':False,\n",
    "           'build':True,\n",
    "           'driz_sep_kernel':'lanczos3',\n",
    "           'driz_cr':False,\n",
    "           'final_wcs':True,\n",
    "           'final_rot':None,\n",
    "           'final_scale':None,\n",
    "           'final_outnx':1200,\n",
    "           'final_outny':1200,\n",
    "           'driz_combine':False,\n",
    "           'num_cores':4\n",
    "          }\n",
    "\n",
    "driz_all(flts, ad_dict)\n"
   ]
  },
  {
   "cell_type": "code",
   "execution_count": null,
   "metadata": {
    "collapsed": false,
    "scrolled": false
   },
   "outputs": [],
   "source": [
    "# Main loop to blot first drz back to all flt frames, and subtract it out\n",
    "\n",
    "flts = sorted(glob.glob('*flt.fits'))\n",
    "drzs = sorted(glob.glob('*single_sci.fits'))\n",
    "for f in flts:\n",
    "    out = blot_back(drzs[0],f,f.replace('flt','firstblot'),0,1)\n",
    "    print(out)\n",
    "    subtract(out, f)"
   ]
  },
  {
   "cell_type": "code",
   "execution_count": null,
   "metadata": {
    "collapsed": false
   },
   "outputs": [],
   "source": [
    "dflt = fits.getdata(flts[0])-fits.getdata(flts[0].replace('flt','firstblot'))\n",
    "plt.figure(figsize=[20,20])\n",
    "plt.imshow(dflt,cmap='viridis', interpolation='none', vmin=-5,vmax=5)\n",
    "plt.colorbar()"
   ]
  }
 ],
 "metadata": {
  "anaconda-cloud": {},
  "kernelspec": {
   "display_name": "Python 3",
   "language": "python",
   "name": "python3"
  },
  "language_info": {
   "codemirror_mode": {
    "name": "ipython",
    "version": 3
   },
   "file_extension": ".py",
   "mimetype": "text/x-python",
   "name": "python",
   "nbconvert_exporter": "python",
   "pygments_lexer": "ipython3",
   "version": "3.5.1"
  }
 },
 "nbformat": 4,
 "nbformat_minor": 1
}
